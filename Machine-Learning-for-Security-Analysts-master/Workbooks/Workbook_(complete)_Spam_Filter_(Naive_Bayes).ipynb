{
  "nbformat": 4,
  "nbformat_minor": 0,
  "metadata": {
    "colab": {
      "name": "Workbook (complete): Spam Filter (Naive Bayes).ipynb",
      "version": "0.3.2",
      "provenance": [],
      "collapsed_sections": [
        "daGfIEJq0pvr",
        "bVfTFdFM0sR6",
        "sUJ5yVhM1Ua-",
        "KX1psGyU1ttI",
        "fgqG_zBs2LHg"
      ]
    },
    "kernelspec": {
      "name": "python3",
      "display_name": "Python 3"
    }
  },
  "cells": [
    {
      "cell_type": "markdown",
      "metadata": {
        "id": "Y3m6fCeVmaUX",
        "colab_type": "text"
      },
      "source": [
        "# Machine Learning for Security Analysts - Workbook </br> Spam Filter (Naive Bayes)\n",
        "\n",
        "---\n",
        "\n",
        "\n",
        "Author: GTKlondike\n",
        "</br>\n",
        "Email: GTKlondike@gmail.com\n",
        "</br>\n",
        "YouTube: [NetSec Explained](https://www.youtube.com/channel/UCsKK7UIiYqvK35aWrCCgUUA)\n",
        "\n",
        "**Dataset:** https://github.com/NetsecExplained/Machine-Learning-for-Security-Analysts\n",
        "\n",
        "**Goal:** This workbook will walk you through the steps to build, train, test, and evaluate a Naive Bayes spam classifier from the ground up\n",
        "\n",
        "**Outline:** \n",
        "* Initial Setup\n",
        "* Tokenization\n",
        "* Load Training Data\n",
        "* Create Predict Function\n",
        "* Test and Evaluate Models\n"
      ]
    },
    {
      "cell_type": "markdown",
      "metadata": {
        "id": "gadApB28w-AQ",
        "colab_type": "text"
      },
      "source": [
        "## Instructions\n",
        "To use Jupyter notebooks:\n",
        "* To run a cell, click on the play button to the left of the code or pressh shift+enter\n",
        "* You will see a busy indicator in the top left area while the runtime is executing\n",
        "* A number will appear when the cell is done"
      ]
    },
    {
      "cell_type": "markdown",
      "metadata": {
        "id": "daGfIEJq0pvr",
        "colab_type": "text"
      },
      "source": [
        "# Initial Setup\n",
        "We'll start by downloading the data and loading the needed libraries."
      ]
    },
    {
      "cell_type": "code",
      "metadata": {
        "id": "6-prBWrmKhi3",
        "colab_type": "code",
        "outputId": "0c04e6de-cf87-4c12-eee8-a4049d2caccd",
        "colab": {
          "base_uri": "https://localhost:8080/",
          "height": 34
        }
      },
      "source": [
        "# Download data from Github\n",
        "! git clone https://github.com/NetsecExplained/Machine-Learning-for-Security-Analysts.git\n",
        "  \n",
        "# Install dependencies\n",
        "! pip install nltk sklearn pandas matplotlib seaborn\n",
        "data_dir = \"Machine-Learning-for-Security-Analysts\""
      ],
      "execution_count": 0,
      "outputs": [
        {
          "output_type": "stream",
          "text": [
            "fatal: destination path 'Machine-Learning-for-Security-Analysts' already exists and is not an empty directory.\n"
          ],
          "name": "stdout"
        }
      ]
    },
    {
      "cell_type": "code",
      "metadata": {
        "id": "az-RDxD-JqXz",
        "colab_type": "code",
        "outputId": "ac1ebf7b-e3a5-40b1-f435-772382586e0c",
        "colab": {
          "base_uri": "https://localhost:8080/",
          "height": 136
        }
      },
      "source": [
        "# Common imports\n",
        "import re, os, math, string, json\n",
        "import pandas as pd\n",
        "import numpy as np\n",
        "import matplotlib.pyplot as plt\n",
        "import random\n",
        "import re\n",
        "\n",
        "# Import Seaborn heatmap graphs\n",
        "import seaborn as sns\n",
        "\n",
        "%matplotlib inline\n",
        "\n",
        "# Import Natural Language ToolKit library and download dictionaries\n",
        "import nltk\n",
        "nltk.download('stopwords')\n",
        "nltk.download('punkt')\n",
        "\n",
        "print(\"\\n### Libraries Imported ###\\n\")"
      ],
      "execution_count": 0,
      "outputs": [
        {
          "output_type": "stream",
          "text": [
            "[nltk_data] Downloading package stopwords to /root/nltk_data...\n",
            "[nltk_data]   Package stopwords is already up-to-date!\n",
            "[nltk_data] Downloading package punkt to /root/nltk_data...\n",
            "[nltk_data]   Package punkt is already up-to-date!\n",
            "\n",
            "### Libraries Imported ###\n",
            "\n"
          ],
          "name": "stdout"
        }
      ]
    },
    {
      "cell_type": "code",
      "metadata": {
        "id": "n0G5Qct1JuGf",
        "colab_type": "code",
        "outputId": "fd006e4d-c30c-4738-8d43-b79f20cd282a",
        "colab": {
          "base_uri": "https://localhost:8080/",
          "height": 136
        }
      },
      "source": [
        "# Test email from lecture slides\n",
        "test_email = \"\"\"\n",
        "Re: Re: East Asian fonts in Lenny. Thanks for your support.  Installing unifonts did it well for me. ;)\n",
        "Nima\n",
        "--\n",
        "To UNSUBSCRIBE, email to debian-user-REQUEST@lists.debian.org\n",
        "with a subject of \"unsubscribe\". Trouble? Contact listmaster@lists.debian.org\n",
        "\"\"\"\n",
        "print(test_email)"
      ],
      "execution_count": 0,
      "outputs": [
        {
          "output_type": "stream",
          "text": [
            "\n",
            "Re: Re: East Asian fonts in Lenny. Thanks for your support.  Installing unifonts did it well for me. ;)\n",
            "Nima\n",
            "--\n",
            "To UNSUBSCRIBE, email to debian-user-REQUEST@lists.debian.org\n",
            "with a subject of \"unsubscribe\". Trouble? Contact listmaster@lists.debian.org\n",
            "\n"
          ],
          "name": "stdout"
        }
      ]
    },
    {
      "cell_type": "markdown",
      "metadata": {
        "id": "bVfTFdFM0sR6",
        "colab_type": "text"
      },
      "source": [
        "# Tokenization\n",
        "Continuing from where we left off with the slides, we'll start by creating our tokenizer."
      ]
    },
    {
      "cell_type": "code",
      "metadata": {
        "id": "Brp3CPvjJwgp",
        "colab_type": "code",
        "outputId": "148ae9bb-fc51-4869-c9e4-f54c5682f0b0",
        "colab": {
          "base_uri": "https://localhost:8080/"
        }
      },
      "source": [
        "# Define tokenizer\n",
        "#   The purpose of a tokenizer is to separate the features from the raw data\n",
        "\n",
        "def tokenizer(text):\n",
        "  \"\"\"Separates feature words from the raw data\n",
        "  Keyword arguments:\n",
        "    text ---- The full email body\n",
        "    \n",
        "  :Returns -- The tokenized words; returned as a list\n",
        "  \"\"\"\n",
        "  \n",
        "  # Retrieve a list of punctuation characters, a list of stopwords, and a stemmer function\n",
        "  punctuations = list(string.punctuation)\n",
        "  stopwords = nltk.corpus.stopwords.words('english')\n",
        "  stemmer = nltk.stem.PorterStemmer()\n",
        "  \n",
        "  \n",
        "  # Set email body to lowercase, separate words and strip out punctuation\n",
        "  tokens = nltk.word_tokenize(text.lower())\n",
        "  tokens = [i.strip(''.join(punctuations)) \n",
        "            for i in tokens \n",
        "            if i not in punctuations]\n",
        "  \n",
        "  \n",
        "  # User Porter Stemmer on each token\n",
        "  tokens = [stemmer.stem(i)\n",
        "            for i in tokens]\n",
        "  return [w for w in tokens if w not in stopwords and w != \"\"]\n",
        "\n",
        "\n",
        "print(\"\\n### Tokenizer defined ###\\n\")"
      ],
      "execution_count": 0,
      "outputs": [
        {
          "output_type": "stream",
          "text": [
            "\n",
            "### Tokenizer defined ###\n",
            "\n"
          ],
          "name": "stdout"
        }
      ]
    },
    {
      "cell_type": "code",
      "metadata": {
        "id": "YGux71ElzpPL",
        "colab_type": "code",
        "outputId": "bfa8a09a-41a6-4207-96d9-a76299ef0534",
        "colab": {
          "base_uri": "https://localhost:8080/"
        }
      },
      "source": [
        "# Let's see how our tokenizer changes our email\n",
        "print(\"\\n- Test Email Body -\\n\")\n",
        "print(test_email)\n",
        "\n",
        "# Tokenize test email\n",
        "print(\"\\n - Tokenized Output -\\n\")\n",
        "tokenized_email = tokenizer(test_email)\n",
        "print(tokenized_email)"
      ],
      "execution_count": 0,
      "outputs": [
        {
          "output_type": "stream",
          "text": [
            "\n",
            "- Test Email Body -\n",
            "\n",
            "\n",
            "Re: Re: East Asian fonts in Lenny. Thanks for your support.  Installing unifonts did it well for me. ;)\n",
            "Nima\n",
            "--\n",
            "To UNSUBSCRIBE, email to debian-user-REQUEST@lists.debian.org\n",
            "with a subject of \"unsubscribe\". Trouble? Contact listmaster@lists.debian.org\n",
            "\n",
            "\n",
            " - Tokenized Output -\n",
            "\n",
            "['east', 'asian', 'font', 'lenni', 'thank', 'support', 'instal', 'unifont', 'well', 'nima', 'unsubscrib', 'email', 'debian-user-request', 'lists.debian.org', 'subject', 'unsubscrib', 'troubl', 'contact', 'listmast', 'lists.debian.org']\n"
          ],
          "name": "stdout"
        }
      ]
    },
    {
      "cell_type": "code",
      "metadata": {
        "id": "sxSdZEog9gZY",
        "colab_type": "code",
        "outputId": "4e85ad19-446a-4354-9111-81de506f5b5a",
        "colab": {
          "base_uri": "https://localhost:8080/"
        }
      },
      "source": [
        "# Define email reader\n",
        " \n",
        "def readEmail(email):\n",
        "  \"\"\"Reads an email and returns word counts\n",
        "  Keyword arguments:\n",
        "    email --- The email body to be read\n",
        "\n",
        "  :Returns -- The count of each word; returned as a dict\n",
        "           -- The total number of words; returned as a int\n",
        "  \"\"\"\n",
        "  \n",
        "  # Retrieve list of tokens\n",
        "  words = tokenizer(email)\n",
        "  \n",
        "  # Build table\n",
        "  table = dict.fromkeys(words, 0)\n",
        "  for word in words:\n",
        "    table[word] += 1\n",
        "    \n",
        "  # Get word count\n",
        "  word_count = len(words)\n",
        "\n",
        "  return table, word_count\n",
        "\n",
        "\n",
        "print(\"\\n### Email Reader Defined ###\\n\")"
      ],
      "execution_count": 0,
      "outputs": [
        {
          "output_type": "stream",
          "text": [
            "\n",
            "### Email Reader Defined ###\n",
            "\n"
          ],
          "name": "stdout"
        }
      ]
    },
    {
      "cell_type": "code",
      "metadata": {
        "id": "RmOWI7Bj1wVe",
        "colab_type": "code",
        "outputId": "9b965fc2-a71e-48b5-fb7e-e37ac0d1b2dc",
        "colab": {
          "base_uri": "https://localhost:8080/"
        }
      },
      "source": [
        "# Let's see how readEmail interprets our test email\n",
        "test_email_words, test_email_wordcount = readEmail(test_email)\n",
        "\n",
        "print(\"\\n- Word Counts -\\n\")\n",
        "for i in test_email_words.keys():\n",
        "  print(\"{} - {}\".format(test_email_words[i], i))\n",
        "\n",
        "print(\"\\n- Total Words in Email -\\n\")\n",
        "print(\"{} - Total\".format(test_email_wordcount))"
      ],
      "execution_count": 0,
      "outputs": [
        {
          "output_type": "stream",
          "text": [
            "\n",
            "- Word Counts -\n",
            "\n",
            "1 - east\n",
            "1 - asian\n",
            "1 - font\n",
            "1 - lenni\n",
            "1 - thank\n",
            "1 - support\n",
            "1 - instal\n",
            "1 - unifont\n",
            "1 - well\n",
            "1 - nima\n",
            "2 - unsubscrib\n",
            "1 - email\n",
            "1 - debian-user-request\n",
            "2 - lists.debian.org\n",
            "1 - subject\n",
            "1 - troubl\n",
            "1 - contact\n",
            "1 - listmast\n",
            "\n",
            "- Total Words in Email -\n",
            "\n",
            "20 - Total\n"
          ],
          "name": "stdout"
        }
      ]
    },
    {
      "cell_type": "markdown",
      "metadata": {
        "id": "sUJ5yVhM1Ua-",
        "colab_type": "text"
      },
      "source": [
        "# Load Training Data\n",
        "With our tokenizer defined, let's take a look at our training data."
      ]
    },
    {
      "cell_type": "code",
      "metadata": {
        "id": "l0qgnw0j1G93",
        "colab_type": "code",
        "outputId": "970fc91d-b46a-42a8-f655-b0f06af3450f",
        "colab": {
          "base_uri": "https://localhost:8080/"
        }
      },
      "source": [
        "# 5 things to keep track of:\n",
        "\n",
        "#   1. The NUMBER of unique words\n",
        "#     This will be calculated as everything is loaded\n",
        "unique_words_table = set()\n",
        "\n",
        "\n",
        "#   2. The TOTAL NUMBER of words in Spam\n",
        "#   3. The TOTAL NUMBER of words in Ham\n",
        "spam_table_len = 0\n",
        "ham_table_len = 0\n",
        "\n",
        "\n",
        "#   4. The COUNT of each word in Spam\n",
        "#   5. the COUNT of each word in Ham\n",
        "spam_table = dict()\n",
        "ham_table = dict()\n",
        "\n",
        "\n",
        "print(\"\\n### Initialized Feature Tables ###\\n\")"
      ],
      "execution_count": 0,
      "outputs": [
        {
          "output_type": "stream",
          "text": [
            "\n",
            "### Initialized Feature Tables ###\n",
            "\n"
          ],
          "name": "stdout"
        }
      ]
    },
    {
      "cell_type": "code",
      "metadata": {
        "id": "wlwIwiEUKCBX",
        "colab_type": "code",
        "outputId": "cdfc56c3-0f81-44c2-dfed-a38b5995f322",
        "colab": {
          "base_uri": "https://localhost:8080/"
        }
      },
      "source": [
        "# Define Spam learning\n",
        "\n",
        "def learnSpam(email):\n",
        "  \"\"\"Reads an email, updates Spam table and word counts\n",
        "  Keyword arguments:\n",
        "    email --- The email body to be read\n",
        "\n",
        "  :Returns -- N/A\n",
        "  \"\"\"\n",
        "  \n",
        "  # Include global variables\n",
        "  global spam_table\n",
        "  global spam_table_len\n",
        "  global unique_words_table\n",
        "\n",
        "  # Read the email\n",
        "  table, word_count = readEmail(email)\n",
        "\n",
        "  # Add UNIQUE words\n",
        "  unique_words_table.update(table)\n",
        "\n",
        "  # Add word count to TOTAL number of Spam words\n",
        "  spam_table_len += word_count\n",
        "\n",
        "  # Add word counts to Spam table\n",
        "  for word in table:\n",
        "    spam_table.setdefault(word, 0)\n",
        "    spam_table[word] += table[word]\n",
        "    \n",
        "    \n",
        "print(\"\\n### Spam Learner Defined ###\\n\")"
      ],
      "execution_count": 0,
      "outputs": [
        {
          "output_type": "stream",
          "text": [
            "\n",
            "### Spam Learner Defined ###\n",
            "\n"
          ],
          "name": "stdout"
        }
      ]
    },
    {
      "cell_type": "code",
      "metadata": {
        "id": "_3zN19mcKCtE",
        "colab_type": "code",
        "outputId": "4cf21de6-ba42-4468-d167-a4a67d462874",
        "colab": {
          "base_uri": "https://localhost:8080/"
        }
      },
      "source": [
        "# Define Ham learning\n",
        "\n",
        "def learnHam(email):\n",
        "  \"\"\"Reads an email, updates Ham table and word counts\n",
        "  Keyword arguments:\n",
        "    email --- The email body to be read\n",
        "\n",
        "  :Returns -- N/A\n",
        "  \"\"\"\n",
        "  \n",
        "  # Include global variables\n",
        "  global ham_table\n",
        "  global ham_table_len\n",
        "  global unique_words_table\n",
        "\n",
        "  # Read the email\n",
        "  table, word_count = readEmail(email)\n",
        "\n",
        "  # Add UNIQUE words\n",
        "  unique_words_table.update(table)\n",
        "\n",
        "  # Add word count to TOTAL number of Ham words\n",
        "  ham_table_len += word_count\n",
        "\n",
        "  # Add word counts to Ham table\n",
        "  for word in table:\n",
        "    ham_table.setdefault(word, 0)\n",
        "    ham_table[word] += table[word]\n",
        "    \n",
        "\n",
        "print(\"\\n### Ham Learner Defined ###\\n\")"
      ],
      "execution_count": 0,
      "outputs": [
        {
          "output_type": "stream",
          "text": [
            "\n",
            "### Ham Learner Defined ###\n",
            "\n"
          ],
          "name": "stdout"
        }
      ]
    },
    {
      "cell_type": "code",
      "metadata": {
        "id": "syIESbQWKFWK",
        "colab_type": "code",
        "outputId": "a62d2132-1a42-45e9-d831-ba2a49ba8661",
        "colab": {
          "base_uri": "https://localhost:8080/"
        }
      },
      "source": [
        "# Load the training data\n",
        "\n",
        "# Store count for calculating priors\n",
        "spam_count = 0\n",
        "ham_count = 0\n",
        "\n",
        "# Load all of the emails from the \"ham\" directory\n",
        "print(\"- Training Ham -\")\n",
        "for each in os.listdir(data_dir + '/ham'):\n",
        "  with open(data_dir + '/ham/' + each, 'r') as f:\n",
        "    learnHam(f.read())\n",
        "  ham_count += 1\n",
        "    \n",
        "\n",
        "# Load all of the emails from the \"spam\" directory\n",
        "print(\"- Training Spam -\")\n",
        "for each in os.listdir(data_dir + '/spam'):\n",
        "  with open(data_dir + '/spam/' + each, 'r') as f:\n",
        "    learnSpam(f.read())\n",
        "  spam_count += 1\n",
        "\n",
        "print(\"\\n### Training complete ###\\n\")"
      ],
      "execution_count": 0,
      "outputs": [
        {
          "output_type": "stream",
          "text": [
            "- Training Ham -\n",
            "- Training Spam -\n",
            "\n",
            "### Training complete ###\n",
            "\n"
          ],
          "name": "stdout"
        }
      ]
    },
    {
      "cell_type": "code",
      "metadata": {
        "id": "x9gLllQtKJjk",
        "colab_type": "code",
        "outputId": "2ea49162-08a1-4842-bbfb-b33dd54b060d",
        "colab": {
          "base_uri": "https://localhost:8080/"
        }
      },
      "source": [
        "# Let's see how our spam_table looks\n",
        "showfirstK = 15\n",
        "print(\"- Showing First {} Elements -\".format(showfirstK))\n",
        "\n",
        "for i in list(spam_table):\n",
        "  print(\"{} \\t- {}\".format(spam_table[i], i))\n",
        "  showfirstK -= 1\n",
        "  if showfirstK <= 0:\n",
        "    break"
      ],
      "execution_count": 0,
      "outputs": [
        {
          "output_type": "stream",
          "text": [
            "- Showing First 15 Elements -\n",
            "34 \t- hello\n",
            "2 \t- rsharp2\n",
            "25 \t- winner\n",
            "6 \t- bahama\n",
            "19 \t- bound\n",
            "96 \t- dear\n",
            "7 \t- congratul\n",
            "1 \t- your\n",
            "2 \t- youv\n",
            "40 \t- chanc\n",
            "778 \t- receiv\n",
            "44 \t- expens\n",
            "57 \t- paid\n",
            "17 \t- florida\n",
            "20 \t- vacat\n"
          ],
          "name": "stdout"
        }
      ]
    },
    {
      "cell_type": "markdown",
      "metadata": {
        "id": "KX1psGyU1ttI",
        "colab_type": "text"
      },
      "source": [
        "# Create Predict Function\n",
        "Now that the training data has been loaded, let's create a repeatable function that can perform predictions.\n"
      ]
    },
    {
      "cell_type": "code",
      "metadata": {
        "id": "Warem4MYKME6",
        "colab_type": "code",
        "outputId": "186a549c-ed78-402d-993c-87258b9584ab",
        "colab": {
          "base_uri": "https://localhost:8080/",
          "height": 68
        }
      },
      "source": [
        "# Define the predict function\n",
        "\n",
        "def predict(email, alpha=1, print_probs=False):\n",
        "  \"\"\"Reads an email, updates Ham table and word counts\n",
        "  Keyword arguments:\n",
        "    email -------- The email body to be read\n",
        "    alpha -------- Smoothing alpha to be applied (almost always 1)\n",
        "    print_probs -- Print probabilities for debugging purposes\n",
        "\n",
        "  :Returns ------- The predicted class label; as a str\n",
        "  \"\"\"\n",
        "  \n",
        "  # Read the email\n",
        "  tokens = tokenizer(email)\n",
        "\n",
        "  # Retrieve N from (1. The NUMBER of unique words)\n",
        "  N = len(unique_words_table)\n",
        "  \n",
        "  # Calculate priors - P(spam) and P(ham)\n",
        "  spam_prior = spam_count / (spam_count + ham_count)\n",
        "  ham_prior  =  ham_count / (spam_count + ham_count)\n",
        "  \n",
        "  # Retrieve denominator values for Spam and Ham calculations\n",
        "  spam_denominator = spam_table_len + N*alpha\n",
        "  ham_denominator = ham_table_len + N*alpha\n",
        "  \n",
        "  \n",
        "  \n",
        "  # Calculate the numerators\n",
        "  spam_numerator = 1\n",
        "  ham_numerator = 1\n",
        "  \n",
        "  for word in tokens:\n",
        "    \n",
        "    # Set to 0 incase word doesn't exist\n",
        "    spam_table.setdefault(word, 0)\n",
        "    ham_table.setdefault(word, 0)\n",
        "    \n",
        "    spam_numerator *= spam_table[word] + alpha\n",
        "    ham_numerator *=  ham_table[word] + alpha\n",
        "  \n",
        "  \n",
        "  \n",
        "  # Calculate the probabilities\n",
        "  #   Using log properties to prevent overflows/underflows  \n",
        "  spam_probability = math.log(spam_prior) + (math.log(spam_numerator) - math.log(spam_denominator ** len(tokens)))\n",
        "  ham_probability  = math.log(ham_prior) + (math.log( ham_numerator) - math.log( ham_denominator ** len(tokens)))\n",
        "\n",
        "  \n",
        "  \n",
        "  # Print probabilities for debugging purposes\n",
        "  if print_probs == True:\n",
        "    print(\"- Probabilities -\")\n",
        "    print(\"Spam Probability: {}\".format(spam_probability))\n",
        "    print(\"Ham Probability:  {}\".format(ham_probability))\n",
        "  \n",
        "  \n",
        "  # Make classification decision\n",
        "  if (spam_probability > ham_probability):\n",
        "    return \"spam\"\n",
        "  else:\n",
        "    return \"ham\"\n",
        "  \n",
        "\n",
        "print(\"\\n### Prediction Function Defined ###\\n\")"
      ],
      "execution_count": 0,
      "outputs": [
        {
          "output_type": "stream",
          "text": [
            "\n",
            "### Prediction Function Defined ###\n",
            "\n"
          ],
          "name": "stdout"
        }
      ]
    },
    {
      "cell_type": "code",
      "metadata": {
        "id": "8FnuImTKax5Q",
        "colab_type": "code",
        "outputId": "e1a5f708-d41c-49f3-f073-d6604b9dc922",
        "colab": {
          "base_uri": "https://localhost:8080/",
          "height": 306
        }
      },
      "source": [
        "# Predict our test email\n",
        "test_email_prediction = predict(test_email, print_probs=True)\n",
        "print(\"\\n- Predicted Class -\\n\")\n",
        "print(\"This email is classified as: {}\".format(test_email_prediction))\n",
        "print(\"\\n- Email Body -\\n\")\n",
        "print(test_email)"
      ],
      "execution_count": 0,
      "outputs": [
        {
          "output_type": "stream",
          "text": [
            "- Probabilities -\n",
            "Spam Probability: -185.55705067716136\n",
            "Ham Probability:  -148.1059806021724\n",
            "\n",
            "- Predicted Class -\n",
            "\n",
            "This email is classified as: ham\n",
            "\n",
            "- Email Body -\n",
            "\n",
            "\n",
            "Re: Re: East Asian fonts in Lenny. Thanks for your support.  Installing unifonts did it well for me. ;)\n",
            "Nima\n",
            "--\n",
            "To UNSUBSCRIBE, email to debian-user-REQUEST@lists.debian.org\n",
            "with a subject of \"unsubscribe\". Trouble? Contact listmaster@lists.debian.org\n",
            "\n"
          ],
          "name": "stdout"
        }
      ]
    },
    {
      "cell_type": "markdown",
      "metadata": {
        "id": "fgqG_zBs2LHg",
        "colab_type": "text"
      },
      "source": [
        "# Test and Evaluate the Model\n",
        "OK, we have our training data loaded and a function to perform predictions. Now it's time to test and evaluate our model\n",
        "\n",
        "But first, we're going to define a helper function to display our evaluation reports."
      ]
    },
    {
      "cell_type": "code",
      "metadata": {
        "id": "FM58ZpFsecIe",
        "colab_type": "code",
        "outputId": "e16bf9bf-f015-406c-e4f7-78f3aed2d8db",
        "colab": {
          "base_uri": "https://localhost:8080/",
          "height": 68
        }
      },
      "source": [
        "# Define report generator\n",
        "\n",
        "def generate_report(cmatrix, score):\n",
        "  \"\"\"Generates and displays graphical reports\n",
        "  Keyword arguments:\n",
        "    cmatrix - Confusion matrix generated by the model\n",
        "    score --- Score generated by the model\n",
        "    \n",
        "  :Returns -- N/A\n",
        "  \"\"\"\n",
        "  \n",
        "  # Generate confusion matrix heatmap\n",
        "  plt.figure(figsize=(5,5))\n",
        "  sns.heatmap(cmatrix, \n",
        "              annot=True, \n",
        "              fmt=\"d\", \n",
        "              linewidths=.5, \n",
        "              square = True, \n",
        "              cmap = 'Blues', \n",
        "              annot_kws={\"size\": 16}, \n",
        "              xticklabels=['ham', 'spam'], \n",
        "              yticklabels=['ham', 'spam'])\n",
        "\n",
        "  plt.xticks(rotation='horizontal', fontsize=16)\n",
        "  plt.yticks(rotation='horizontal', fontsize=16)\n",
        "  plt.xlabel('Actual Label', size=20);\n",
        "  plt.ylabel('Predicted Label', size=20);\n",
        "\n",
        "  title = 'Accuracy Score: {0:.4f}'.format(score)\n",
        "  plt.title(title, size = 20);\n",
        "\n",
        "  # Display confusion matrix\n",
        "  plt.show()\n",
        "  \n",
        "  \n",
        "print(\"\\n### Report Generator Defined ###\\n\")"
      ],
      "execution_count": 0,
      "outputs": [
        {
          "output_type": "stream",
          "text": [
            "\n",
            "### Report Generator Defined ###\n",
            "\n"
          ],
          "name": "stdout"
        }
      ]
    },
    {
      "cell_type": "code",
      "metadata": {
        "id": "h6HsNF9eKNmw",
        "colab_type": "code",
        "outputId": "8e5bafc2-cb04-4514-b357-ec58208f4b64",
        "colab": {
          "base_uri": "https://localhost:8080/",
          "height": 68
        }
      },
      "source": [
        "# Define a function to test the model\n",
        "\n",
        "def testModel(alpha=1):\n",
        "  \"\"\"Evaluates the model with the given alpha\n",
        "  Keyword arguments:\n",
        "    alpha --- Smoothing alpha to be applied (almost always 1)\n",
        "\n",
        "  :Returns -- N/A\n",
        "  \"\"\"\n",
        "  \n",
        "  # Initialize confusion matrix (true label vs predicted label)\n",
        "  spam_spam = 0\n",
        "  spam_ham  = 0\n",
        "  ham_ham   = 0\n",
        "  ham_spam  = 0\n",
        "  \n",
        "  \n",
        "  # Predict testing emails\n",
        "  print(\"- Predicting Testing Emails -\")\n",
        "  for filename in os.listdir(data_dir + '/test'):\n",
        "      with open(data_dir + \"/test/\" + filename, 'r') as f:\n",
        "          prediction = predict(f.read())\n",
        "          true_label = re.split(\"txt\\.\", filename)[1]\n",
        "          \n",
        "          # Craft confusion matrix counts\n",
        "          if (true_label == 'ham'):\n",
        "            if (prediction == 'ham'):\n",
        "              ham_ham += 1\n",
        "            else:\n",
        "              ham_spam += 1\n",
        "          elif (true_label == 'spam'):\n",
        "            if (prediction == 'spam'):\n",
        "              spam_spam += 1\n",
        "            else:\n",
        "              spam_ham += 1\n",
        "              \n",
        "              \n",
        "  # Calculate statistics\n",
        "  cmatrix = [[ham_ham, spam_ham], \n",
        "             [ham_spam, spam_spam]]\n",
        "  correctly_classified = ham_ham + spam_spam\n",
        "  total_predictions   = ham_ham + spam_spam + ham_spam + spam_ham\n",
        "  accuracy = float(correctly_classified) / total_predictions\n",
        "\n",
        "  \n",
        "  # Print testing statistics\n",
        "  print(\"\\n- Printing Test Statistics -\\n\")\n",
        "  print(\"Total Emails: \", total_predictions)\n",
        "  print(\"Correctly classified: \", correctly_classified)\n",
        "  generate_report(cmatrix, accuracy)\n",
        "  \n",
        "  \n",
        "print(\"\\n### Model Evaluator Defined ###\\n\")"
      ],
      "execution_count": 0,
      "outputs": [
        {
          "output_type": "stream",
          "text": [
            "\n",
            "### Model Evaluator Defined ###\n",
            "\n"
          ],
          "name": "stdout"
        }
      ]
    },
    {
      "cell_type": "code",
      "metadata": {
        "id": "vCCTh3PiKPDY",
        "colab_type": "code",
        "outputId": "eee2ce32-d1a9-48d9-e02c-82380124d927",
        "colab": {
          "base_uri": "https://localhost:8080/",
          "height": 429
        }
      },
      "source": [
        "testModel()"
      ],
      "execution_count": 0,
      "outputs": [
        {
          "output_type": "stream",
          "text": [
            "- Predicting Testing Emails -\n",
            "\n",
            "- Printing Test Statistics -\n",
            "\n",
            "Total Emails:  866\n",
            "Correctly classified:  819\n"
          ],
          "name": "stdout"
        },
        {
          "output_type": "display_data",
          "data": {
            "image/png": "[encoded data removed]",
            "text/plain": [
              "<Figure size 360x360 with 2 Axes>"
            ]
          },
          "metadata": {
            "tags": []
          }
        }
      ]
    },
    {
      "cell_type": "code",
      "metadata": {
        "id": "_UYbnpIyZNDi",
        "colab_type": "code",
        "colab": {}
      },
      "source": [
        ""
      ],
      "execution_count": 0,
      "outputs": []
    }
  ]
}